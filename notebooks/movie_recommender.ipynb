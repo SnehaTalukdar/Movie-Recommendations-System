{
 "cells": [
  {
   "cell_type": "code",
   "execution_count": 7,
   "id": "89155b8e",
   "metadata": {},
   "outputs": [],
   "source": [
    "import pandas as pd\n",
    "import numpy as np\n"
   ]
  },
  {
   "cell_type": "code",
   "execution_count": 8,
   "id": "578cc091",
   "metadata": {},
   "outputs": [
    {
     "name": "stdout",
     "output_type": "stream",
     "text": [
      "Python is working ✅\n"
     ]
    }
   ],
   "source": [
    "import pandas as pd\n",
    "print(\"Python is working ✅\")\n"
   ]
  },
  {
   "cell_type": "code",
   "execution_count": 9,
   "id": "f6502e18",
   "metadata": {},
   "outputs": [
    {
     "name": "stdout",
     "output_type": "stream",
     "text": [
      " Movies Dataset Preview:\n",
      "   movieId                               title  \\\n",
      "0        1                    Toy Story (1995)   \n",
      "1        2                      Jumanji (1995)   \n",
      "2        3             Grumpier Old Men (1995)   \n",
      "3        4            Waiting to Exhale (1995)   \n",
      "4        5  Father of the Bride Part II (1995)   \n",
      "\n",
      "                                        genres  \n",
      "0  Adventure|Animation|Children|Comedy|Fantasy  \n",
      "1                   Adventure|Children|Fantasy  \n",
      "2                               Comedy|Romance  \n",
      "3                         Comedy|Drama|Romance  \n",
      "4                                       Comedy  \n",
      "\n",
      " Ratings Dataset Preview:\n",
      "   userId  movieId  rating  timestamp\n",
      "0       1        1     4.0  964982703\n",
      "1       1        2     4.0  964981247\n",
      "2       1        3     4.0  964982224\n",
      "3       2        2     5.0  964982931\n",
      "4       2        4     3.0  964982400\n"
     ]
    }
   ],
   "source": [
    "# Loading movie-related data from CSVs\n",
    "import pandas as pd\n",
    "\n",
    "#  loading both datasets at the top so I can cross-reference later\n",
    "movie_data = pd.read_csv('../data/movies.csv')      # Contains movie titles and genres\n",
    "user_ratings = pd.read_csv('../data/ratings.csv')   # This one has user IDs and their ratings\n",
    "\n",
    "# Just checking the first few rows to make sure the files loaded correctly\n",
    "print(\" Movies Dataset Preview:\")\n",
    "print(movie_data.head())   # Quick check – titles and genres should be visible here\n",
    "\n",
    "print(\"\\n Ratings Dataset Preview:\")\n",
    "print(user_ratings.head())  # Should show userId, movieId, and rating – let's confirm\n"
   ]
  },
  {
   "cell_type": "code",
   "execution_count": null,
   "id": "09631d92",
   "metadata": {},
   "outputs": [],
   "source": []
  },
  {
   "cell_type": "code",
   "execution_count": 10,
   "id": "30262377",
   "metadata": {},
   "outputs": [
    {
     "name": "stdout",
     "output_type": "stream",
     "text": [
      "Oops! One of the files is not where I expected. Double-checking the 'data' folder path.\n",
      " Movies Dataset:\n"
     ]
    },
    {
     "ename": "NameError",
     "evalue": "name 'movies_df' is not defined",
     "output_type": "error",
     "traceback": [
      "\u001b[31m---------------------------------------------------------------------------\u001b[39m",
      "\u001b[31mNameError\u001b[39m                                 Traceback (most recent call last)",
      "\u001b[36mCell\u001b[39m\u001b[36m \u001b[39m\u001b[32mIn[10]\u001b[39m\u001b[32m, line 13\u001b[39m\n\u001b[32m     11\u001b[39m \u001b[38;5;66;03m# Taking a quick look at the first few rows — just to confirm everything loaded okay\u001b[39;00m\n\u001b[32m     12\u001b[39m \u001b[38;5;28mprint\u001b[39m(\u001b[33m\"\u001b[39m\u001b[33m Movies Dataset:\u001b[39m\u001b[33m\"\u001b[39m)\n\u001b[32m---> \u001b[39m\u001b[32m13\u001b[39m \u001b[38;5;28mprint\u001b[39m(\u001b[43mmovies_df\u001b[49m.head())  \u001b[38;5;66;03m# I usually peek at the head before doing anything else\u001b[39;00m\n\u001b[32m     15\u001b[39m \u001b[38;5;28mprint\u001b[39m(\u001b[33m\"\u001b[39m\u001b[38;5;130;01m\\n\u001b[39;00m\u001b[33m Ratings Dataset:\u001b[39m\u001b[33m\"\u001b[39m)\n\u001b[32m     16\u001b[39m \u001b[38;5;28mprint\u001b[39m(ratings_df.head())  \u001b[38;5;66;03m# Looks like: userId, movieId, rating, timestamp (might not need timestamp later)\u001b[39;00m\n",
      "\u001b[31mNameError\u001b[39m: name 'movies_df' is not defined"
     ]
    }
   ],
   "source": [
    "import pandas as pd\n",
    "\n",
    "# Loading up the CSVs – should be in the 'data' folder relative to this script\n",
    "try:\n",
    "    movies_df = pd.read_csv('data/movies.csv')     # Movie info – titles, genres, etc.\n",
    "    ratings_df = pd.read_csv('data/ratings.csv')   # User ratings, hopefully no NaNs\n",
    "\n",
    "except FileNotFoundError:\n",
    "    print(\"Oops! One of the files is not where I expected. Double-checking the 'data' folder path.\")\n",
    "\n",
    "# Taking a quick look at the first few rows — just to confirm everything loaded okay\n",
    "print(\" Movies Dataset:\")\n",
    "print(movies_df.head())  # I usually peek at the head before doing anything else\n",
    "\n",
    "print(\"\\n Ratings Dataset:\")\n",
    "print(ratings_df.head())  # Looks like: userId, movieId, rating, timestamp (might not need timestamp later)\n"
   ]
  },
  {
   "cell_type": "code",
   "execution_count": 11,
   "id": "f01e839b",
   "metadata": {},
   "outputs": [
    {
     "name": "stdout",
     "output_type": "stream",
     "text": [
      "movies.csv found: False\n",
      "ratings.csv found: False\n"
     ]
    }
   ],
   "source": [
    "import os\n",
    "\n",
    "print(\"movies.csv found:\", os.path.exists('data/movies.csv'))\n",
    "print(\"ratings.csv found:\", os.path.exists('data/ratings.csv'))\n"
   ]
  },
  {
   "cell_type": "code",
   "execution_count": 12,
   "id": "c6949013",
   "metadata": {},
   "outputs": [
    {
     "name": "stdout",
     "output_type": "stream",
     "text": [
      "Current working directory: c:\\Users\\Sneha Talukdar\\MovieRecommendationSystem\\notebooks\n"
     ]
    }
   ],
   "source": [
    "import os\n",
    "print(\"Current working directory:\", os.getcwd())\n"
   ]
  },
  {
   "cell_type": "code",
   "execution_count": 13,
   "id": "885f5392",
   "metadata": {},
   "outputs": [],
   "source": [
    "movies_df = pd.read_csv('../data/movies.csv')\n",
    "ratings_df = pd.read_csv('../data/ratings.csv')\n"
   ]
  },
  {
   "cell_type": "code",
   "execution_count": 14,
   "id": "b80fe409",
   "metadata": {},
   "outputs": [
    {
     "name": "stdout",
     "output_type": "stream",
     "text": [
      " Movies Dataset:\n",
      "   movieId                               title  \\\n",
      "0        1                    Toy Story (1995)   \n",
      "1        2                      Jumanji (1995)   \n",
      "2        3             Grumpier Old Men (1995)   \n",
      "3        4            Waiting to Exhale (1995)   \n",
      "4        5  Father of the Bride Part II (1995)   \n",
      "\n",
      "                                        genres  \n",
      "0  Adventure|Animation|Children|Comedy|Fantasy  \n",
      "1                   Adventure|Children|Fantasy  \n",
      "2                               Comedy|Romance  \n",
      "3                         Comedy|Drama|Romance  \n",
      "4                                       Comedy  \n",
      "\n",
      "  Ratings Dataset:\n",
      "   userId  movieId  rating  timestamp\n",
      "0       1        1     4.0  964982703\n",
      "1       1        2     4.0  964981247\n",
      "2       1        3     4.0  964982224\n",
      "3       2        2     5.0  964982931\n",
      "4       2        4     3.0  964982400\n"
     ]
    }
   ],
   "source": [
    "print(\" Movies Dataset:\")\n",
    "print(movies_df.head())\n",
    "\n",
    "print(\"\\n  Ratings Dataset:\")\n",
    "print(ratings_df.head())\n"
   ]
  },
  {
   "cell_type": "code",
   "execution_count": 15,
   "id": "a6f2b010",
   "metadata": {},
   "outputs": [
    {
     "name": "stdout",
     "output_type": "stream",
     "text": [
      " Merged Dataset:\n",
      "   userId  movieId  rating  timestamp                     title  \\\n",
      "0       1        1     4.0  964982703          Toy Story (1995)   \n",
      "1       1        2     4.0  964981247            Jumanji (1995)   \n",
      "2       1        3     4.0  964982224   Grumpier Old Men (1995)   \n",
      "3       2        2     5.0  964982931            Jumanji (1995)   \n",
      "4       2        4     3.0  964982400  Waiting to Exhale (1995)   \n",
      "\n",
      "                                        genres  \n",
      "0  Adventure|Animation|Children|Comedy|Fantasy  \n",
      "1                   Adventure|Children|Fantasy  \n",
      "2                               Comedy|Romance  \n",
      "3                   Adventure|Children|Fantasy  \n",
      "4                         Comedy|Drama|Romance  \n"
     ]
    }
   ],
   "source": [
    "# Merging ratings with movie titles\n",
    "combined_df = pd.merge(ratings_df, movies_df, on='movieId')\n",
    "\n",
    "# Displaying the required result\n",
    "print(\" Merged Dataset:\")\n",
    "print(combined_df.head())\n"
   ]
  },
  {
   "cell_type": "code",
   "execution_count": 16,
   "id": "4163e8b1",
   "metadata": {},
   "outputs": [
    {
     "name": "stdout",
     "output_type": "stream",
     "text": [
      "  User-Movie Matrix:\n",
      "title   Grumpier Old Men (1995)  Jumanji (1995)  Toy Story (1995)  \\\n",
      "userId                                                              \n",
      "1                           4.0             4.0               4.0   \n",
      "2                           NaN             5.0               NaN   \n",
      "\n",
      "title   Waiting to Exhale (1995)  \n",
      "userId                            \n",
      "1                            NaN  \n",
      "2                            3.0  \n"
     ]
    }
   ],
   "source": [
    "# Creating the user-movie matrix\n",
    "user_movie_matrix = combined_df.pivot_table(index='userId', columns='title', values='rating')\n",
    "\n",
    "# Displaying a small part of it\n",
    "print(\"  User-Movie Matrix:\")\n",
    "print(user_movie_matrix.head())\n"
   ]
  },
  {
   "cell_type": "code",
   "execution_count": 17,
   "id": "21a6bde9",
   "metadata": {},
   "outputs": [
    {
     "name": "stdout",
     "output_type": "stream",
     "text": [
      "Available movie titles:\n",
      "['Grumpier Old Men (1995)', 'Jumanji (1995)', 'Toy Story (1995)', 'Waiting to Exhale (1995)']\n"
     ]
    }
   ],
   "source": [
    "# Showing all the unique movie titles for choosing among them\n",
    "print(\"Available movie titles:\")\n",
    "print(user_movie_matrix.columns.tolist())\n"
   ]
  },
  {
   "cell_type": "code",
   "execution_count": null,
   "id": "4aa73592",
   "metadata": {},
   "outputs": [
    {
     "name": "stdout",
     "output_type": "stream",
     "text": [
      " Top 5 movies similar to 'Toy Story (1995)' (with 2+ ratings):\n",
      "Empty DataFrame\n",
      "Columns: [Correlation, rating]\n",
      "Index: []\n"
     ]
    },
    {
     "name": "stderr",
     "output_type": "stream",
     "text": [
      "c:\\Users\\Sneha Talukdar\\AppData\\Local\\Programs\\Python\\Python311\\Lib\\site-packages\\numpy\\lib\\_function_base_impl.py:3057: RuntimeWarning: Degrees of freedom <= 0 for slice\n",
      "  c = cov(x, y, rowvar, dtype=dtype)\n",
      "c:\\Users\\Sneha Talukdar\\AppData\\Local\\Programs\\Python\\Python311\\Lib\\site-packages\\numpy\\lib\\_function_base_impl.py:2914: RuntimeWarning: divide by zero encountered in divide\n",
      "  c *= np.true_divide(1, fact)\n",
      "c:\\Users\\Sneha Talukdar\\AppData\\Local\\Programs\\Python\\Python311\\Lib\\site-packages\\numpy\\lib\\_function_base_impl.py:2914: RuntimeWarning: invalid value encountered in multiply\n",
      "  c *= np.true_divide(1, fact)\n"
     ]
    }
   ],
   "source": []
  },
  {
   "cell_type": "code",
   "execution_count": 21,
   "id": "cc00ab2f",
   "metadata": {},
   "outputs": [
    {
     "name": "stdout",
     "output_type": "stream",
     "text": [
      " Movies Metadata:\n",
      "      id                        title  \\\n",
      "0    862                    Toy Story   \n",
      "1   8844                      Jumanji   \n",
      "2  15602             Grumpier Old Men   \n",
      "3  31357            Waiting to Exhale   \n",
      "4  11862  Father of the Bride Part II   \n",
      "\n",
      "                                              genres  \n",
      "0  [{'id': 16, 'name': 'Animation'}, {'id': 35, '...  \n",
      "1  [{'id': 12, 'name': 'Adventure'}, {'id': 14, '...  \n",
      "2  [{'id': 10749, 'name': 'Romance'}, {'id': 35, ...  \n",
      "3  [{'id': 35, 'name': 'Comedy'}, {'id': 18, 'nam...  \n",
      "4                     [{'id': 35, 'name': 'Comedy'}]  \n",
      "\n",
      " Ratings:\n",
      "   userId  movieId  rating   timestamp\n",
      "0       1       31     2.5  1260759144\n",
      "1       1     1029     3.0  1260759179\n",
      "2       1     1061     3.0  1260759182\n",
      "3       1     1129     2.0  1260759185\n",
      "4       1     1172     4.0  1260759205\n"
     ]
    }
   ],
   "source": [
    "import pandas as pd\n",
    "\n",
    "# Loading the cleaned MovieLens datasets\n",
    "movies_df = pd.read_csv('../data/movies_metadata.csv', low_memory=False)\n",
    "ratings_df = pd.read_csv('../data/ratings_small.csv')\n",
    "\n",
    "# Showing first few rows\n",
    "print(\" Movies Metadata:\")\n",
    "print(movies_df[['id', 'title', 'genres']].head())\n",
    "\n",
    "print(\"\\n Ratings:\")\n",
    "print(ratings_df.head())\n"
   ]
  },
  {
   "cell_type": "code",
   "execution_count": 22,
   "id": "ed5e3ebb",
   "metadata": {},
   "outputs": [],
   "source": [
    "# Step 1: Cleaning the 'id' column in movies_df\n",
    "movies_df['id'] = pd.to_numeric(movies_df['id'], errors='coerce')  # Converting to numbers, setting bad entries to NaN\n",
    "movies_df.dropna(subset=['id'], inplace=True)                      # Removing rows where 'id' is missing\n",
    "movies_df['id'] = movies_df['id'].astype(int)                      # Converting to int so, that it matches 'movieId'\n"
   ]
  },
  {
   "cell_type": "code",
   "execution_count": 24,
   "id": "19188a11",
   "metadata": {},
   "outputs": [
    {
     "name": "stdout",
     "output_type": "stream",
     "text": [
      " Merged Dataset:\n",
      "   userId  movieId                           title  rating\n",
      "0       1     1371                       Rocky III     2.5\n",
      "1       1     1405                           Greed     1.0\n",
      "2       1     2105                    American Pie     4.0\n",
      "3       1     2193                        My Tutor     2.0\n",
      "4       1     2294  Jay and Silent Bob Strike Back     2.0\n"
     ]
    }
   ],
   "source": [
    "# Step 2: Merging ratings with movies on ID\n",
    "combined_df = pd.merge(ratings_df, movies_df, left_on='movieId', right_on='id')\n",
    "\n",
    "# Showing a few columns for checking\n",
    "print(\" Merged Dataset:\")\n",
    "print(combined_df[['userId', 'movieId', 'title', 'rating']].head())\n"
   ]
  },
  {
   "cell_type": "code",
   "execution_count": 25,
   "id": "2e693700",
   "metadata": {},
   "outputs": [
    {
     "name": "stdout",
     "output_type": "stream",
     "text": [
      " User-Movie Rating Matrix:\n",
      "title   !Women Art Revolution  'Gator Bait  'Twas the Night Before Christmas  \\\n",
      "userId                                                                         \n",
      "1                         NaN          NaN                               NaN   \n",
      "2                         NaN          NaN                               NaN   \n",
      "3                         NaN          NaN                               NaN   \n",
      "4                         NaN          NaN                               NaN   \n",
      "5                         NaN          NaN                               NaN   \n",
      "\n",
      "title   ...And God Created Woman  00 Schneider - Jagd auf Nihil Baxter  \\\n",
      "userId                                                                   \n",
      "1                            NaN                                   NaN   \n",
      "2                            NaN                                   NaN   \n",
      "3                            NaN                                   NaN   \n",
      "4                            NaN                                   NaN   \n",
      "5                            NaN                                   NaN   \n",
      "\n",
      "title   10 Items or Less  10 Things I Hate About You  10,000 BC  \\\n",
      "userId                                                            \n",
      "1                    NaN                         NaN        NaN   \n",
      "2                    NaN                         NaN        NaN   \n",
      "3                    NaN                         NaN        NaN   \n",
      "4                    NaN                         NaN        NaN   \n",
      "5                    NaN                         NaN        NaN   \n",
      "\n",
      "title   11'09''01 - September 11  12 Angry Men  ...  Zodiac  \\\n",
      "userId                                          ...           \n",
      "1                            NaN           NaN  ...     NaN   \n",
      "2                            NaN           NaN  ...     NaN   \n",
      "3                            NaN           NaN  ...     NaN   \n",
      "4                            NaN           NaN  ...     NaN   \n",
      "5                            NaN           NaN  ...     NaN   \n",
      "\n",
      "title   Zombie Flesh Eaters  Zombie Holocaust  Zozo  eXistenZ  xXx  \\\n",
      "userId                                                               \n",
      "1                       NaN               NaN   NaN       NaN  NaN   \n",
      "2                       NaN               NaN   NaN       NaN  NaN   \n",
      "3                       NaN               NaN   NaN       NaN  NaN   \n",
      "4                       NaN               NaN   NaN       NaN  NaN   \n",
      "5                       NaN               NaN   NaN       NaN  NaN   \n",
      "\n",
      "title   ¡Three Amigos!  À nos amours  Ödipussi  Şaban Oğlu Şaban  \n",
      "userId                                                            \n",
      "1                  NaN           NaN       NaN               NaN  \n",
      "2                  NaN           NaN       NaN               NaN  \n",
      "3                  NaN           NaN       NaN               NaN  \n",
      "4                  NaN           NaN       NaN               NaN  \n",
      "5                  NaN           NaN       NaN               NaN  \n",
      "\n",
      "[5 rows x 2794 columns]\n"
     ]
    }
   ],
   "source": [
    "# Creating the pivot table: users as rows, movie titles as columns, ratings as values\n",
    "user_movie_matrix = combined_df.pivot_table(index='userId', columns='title', values='rating')\n",
    "\n",
    "# Show the top-left part of the matrix\n",
    "print(\" User-Movie Rating Matrix:\")\n",
    "print(user_movie_matrix.head())\n"
   ]
  },
  {
   "cell_type": "code",
   "execution_count": 28,
   "id": "b0a76ba3",
   "metadata": {},
   "outputs": [
    {
     "name": "stderr",
     "output_type": "stream",
     "text": [
      "c:\\Users\\Sneha Talukdar\\AppData\\Local\\Programs\\Python\\Python311\\Lib\\site-packages\\numpy\\lib\\_function_base_impl.py:3057: RuntimeWarning: Degrees of freedom <= 0 for slice\n",
      "  c = cov(x, y, rowvar, dtype=dtype)\n",
      "c:\\Users\\Sneha Talukdar\\AppData\\Local\\Programs\\Python\\Python311\\Lib\\site-packages\\numpy\\lib\\_function_base_impl.py:2914: RuntimeWarning: divide by zero encountered in divide\n",
      "  c *= np.true_divide(1, fact)\n",
      "c:\\Users\\Sneha Talukdar\\AppData\\Local\\Programs\\Python\\Python311\\Lib\\site-packages\\numpy\\lib\\_function_base_impl.py:2914: RuntimeWarning: invalid value encountered in multiply\n",
      "  c *= np.true_divide(1, fact)\n",
      "c:\\Users\\Sneha Talukdar\\AppData\\Local\\Programs\\Python\\Python311\\Lib\\site-packages\\numpy\\lib\\_function_base_impl.py:3065: RuntimeWarning: invalid value encountered in divide\n",
      "  c /= stddev[:, None]\n",
      "c:\\Users\\Sneha Talukdar\\AppData\\Local\\Programs\\Python\\Python311\\Lib\\site-packages\\numpy\\lib\\_function_base_impl.py:3066: RuntimeWarning: invalid value encountered in divide\n",
      "  c /= stddev[None, :]\n"
     ]
    },
    {
     "name": "stdout",
     "output_type": "stream",
     "text": [
      " Top 5 movies similar to 'American Pie':\n",
      "                                     Correlation  rating_count\n",
      "title                                                         \n",
      "Megacities                                   1.0            12\n",
      "Lock, Stock and Two Smoking Barrels          1.0            21\n",
      "The Mummy Returns                            1.0            13\n",
      "American Pie                                 1.0            47\n",
      "The Patriot                                  1.0            12\n"
     ]
    }
   ],
   "source": [
    "# Step 1: Setting the chosen movie title\n",
    "target_movie = \"American Pie\"\n",
    "\n",
    "# Step 2: Getting the user ratings for that movie\n",
    "target_ratings = user_movie_matrix[target_movie]\n",
    "\n",
    "# Step 3: Correlating it with all other movies\n",
    "similar_movies = user_movie_matrix.corrwith(target_ratings)\n",
    "\n",
    "# Step 4: Cleaning the result\n",
    "corr_df = pd.DataFrame(similar_movies, columns=[\"Correlation\"])\n",
    "corr_df.dropna(inplace=True)\n",
    "\n",
    "# Step 5: Adding rating count\n",
    "movie_rating_counts = combined_df.groupby(\"title\")[\"rating\"].count()\n",
    "corr_df[\"rating_count\"] = movie_rating_counts\n",
    "\n",
    "# Step 6: Filtering and showing the top 5\n",
    "filtered_corr = corr_df[corr_df[\"rating_count\"] >= 10]  # adjust number if needed\n",
    "top_similar = filtered_corr.sort_values(\"Correlation\", ascending=False).head(5)\n",
    "\n",
    "print(f\" Top 5 movies similar to '{target_movie}':\")\n",
    "print(top_similar)\n"
   ]
  },
  {
   "cell_type": "code",
   "execution_count": 29,
   "id": "b5d11835",
   "metadata": {},
   "outputs": [],
   "source": [
    "def get_similar_movies(movie_title, min_ratings=10):\n",
    "    if movie_title not in user_movie_matrix.columns:\n",
    "        print(f\" Movie '{movie_title}' not found.\")\n",
    "        return pd.DataFrame()\n",
    "    \n",
    "    target_ratings = user_movie_matrix[movie_title]\n",
    "    similar_movies = user_movie_matrix.corrwith(target_ratings)\n",
    "\n",
    "    corr_df = pd.DataFrame(similar_movies, columns=[\"Correlation\"])\n",
    "    corr_df.dropna(inplace=True)\n",
    "\n",
    "    rating_counts = combined_df.groupby(\"title\")[\"rating\"].count()\n",
    "    corr_df[\"rating_count\"] = rating_counts\n",
    "\n",
    "    filtered = corr_df[corr_df[\"rating_count\"] >= min_ratings]\n",
    "    return filtered.sort_values(\"Correlation\", ascending=False).head(5)\n"
   ]
  },
  {
   "cell_type": "code",
   "execution_count": 30,
   "id": "12252c53",
   "metadata": {},
   "outputs": [
    {
     "name": "stdout",
     "output_type": "stream",
     "text": [
      " Similar to 'American Pie':\n"
     ]
    },
    {
     "name": "stderr",
     "output_type": "stream",
     "text": [
      "c:\\Users\\Sneha Talukdar\\AppData\\Local\\Programs\\Python\\Python311\\Lib\\site-packages\\numpy\\lib\\_function_base_impl.py:3057: RuntimeWarning: Degrees of freedom <= 0 for slice\n",
      "  c = cov(x, y, rowvar, dtype=dtype)\n",
      "c:\\Users\\Sneha Talukdar\\AppData\\Local\\Programs\\Python\\Python311\\Lib\\site-packages\\numpy\\lib\\_function_base_impl.py:2914: RuntimeWarning: divide by zero encountered in divide\n",
      "  c *= np.true_divide(1, fact)\n",
      "c:\\Users\\Sneha Talukdar\\AppData\\Local\\Programs\\Python\\Python311\\Lib\\site-packages\\numpy\\lib\\_function_base_impl.py:2914: RuntimeWarning: invalid value encountered in multiply\n",
      "  c *= np.true_divide(1, fact)\n",
      "c:\\Users\\Sneha Talukdar\\AppData\\Local\\Programs\\Python\\Python311\\Lib\\site-packages\\numpy\\lib\\_function_base_impl.py:3065: RuntimeWarning: invalid value encountered in divide\n",
      "  c /= stddev[:, None]\n",
      "c:\\Users\\Sneha Talukdar\\AppData\\Local\\Programs\\Python\\Python311\\Lib\\site-packages\\numpy\\lib\\_function_base_impl.py:3066: RuntimeWarning: invalid value encountered in divide\n",
      "  c /= stddev[None, :]\n"
     ]
    },
    {
     "name": "stdout",
     "output_type": "stream",
     "text": [
      "                                     Correlation  rating_count\n",
      "title                                                         \n",
      "Megacities                                   1.0            12\n",
      "Lock, Stock and Two Smoking Barrels          1.0            21\n",
      "The Mummy Returns                            1.0            13\n",
      "American Pie                                 1.0            47\n",
      "The Patriot                                  1.0            12\n",
      "\n",
      " Similar to 'Rocky III':\n"
     ]
    },
    {
     "name": "stderr",
     "output_type": "stream",
     "text": [
      "c:\\Users\\Sneha Talukdar\\AppData\\Local\\Programs\\Python\\Python311\\Lib\\site-packages\\numpy\\lib\\_function_base_impl.py:3057: RuntimeWarning: Degrees of freedom <= 0 for slice\n",
      "  c = cov(x, y, rowvar, dtype=dtype)\n",
      "c:\\Users\\Sneha Talukdar\\AppData\\Local\\Programs\\Python\\Python311\\Lib\\site-packages\\numpy\\lib\\_function_base_impl.py:2914: RuntimeWarning: divide by zero encountered in divide\n",
      "  c *= np.true_divide(1, fact)\n",
      "c:\\Users\\Sneha Talukdar\\AppData\\Local\\Programs\\Python\\Python311\\Lib\\site-packages\\numpy\\lib\\_function_base_impl.py:2914: RuntimeWarning: invalid value encountered in multiply\n",
      "  c *= np.true_divide(1, fact)\n",
      "c:\\Users\\Sneha Talukdar\\AppData\\Local\\Programs\\Python\\Python311\\Lib\\site-packages\\numpy\\lib\\_function_base_impl.py:3065: RuntimeWarning: invalid value encountered in divide\n",
      "  c /= stddev[:, None]\n",
      "c:\\Users\\Sneha Talukdar\\AppData\\Local\\Programs\\Python\\Python311\\Lib\\site-packages\\numpy\\lib\\_function_base_impl.py:3066: RuntimeWarning: invalid value encountered in divide\n",
      "  c /= stddev[None, :]\n"
     ]
    },
    {
     "name": "stdout",
     "output_type": "stream",
     "text": [
      "                            Correlation  rating_count\n",
      "title                                                \n",
      "Bandido!                            1.0            20\n",
      "Righteous Ties                      1.0            22\n",
      "Roman Holiday                       1.0            14\n",
      "Underground                         1.0            11\n",
      "Far from the Madding Crowd          1.0            12\n",
      "\n",
      " Trying an unknown movie:\n",
      " Movie 'Batman vs Godzilla' not found.\n",
      "Empty DataFrame\n",
      "Columns: []\n",
      "Index: []\n"
     ]
    }
   ],
   "source": [
    "print(\" Similar to 'American Pie':\")\n",
    "print(get_similar_movies(\"American Pie\"))\n",
    "\n",
    "print(\"\\n Similar to 'Rocky III':\")\n",
    "print(get_similar_movies(\"Rocky III\"))\n",
    "\n",
    "print(\"\\n Trying an unknown movie:\")\n",
    "print(get_similar_movies(\"Batman vs Godzilla\"))\n"
   ]
  }
 ],
 "metadata": {
  "kernelspec": {
   "display_name": "Python 3",
   "language": "python",
   "name": "python3"
  },
  "language_info": {
   "codemirror_mode": {
    "name": "ipython",
    "version": 3
   },
   "file_extension": ".py",
   "mimetype": "text/x-python",
   "name": "python",
   "nbconvert_exporter": "python",
   "pygments_lexer": "ipython3",
   "version": "3.11.5"
  }
 },
 "nbformat": 4,
 "nbformat_minor": 5
}
